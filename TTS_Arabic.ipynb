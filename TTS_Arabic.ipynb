{
  "metadata": {
    "colab": {
      "provenance": [],
      "gpuType": "T4"
    },
    "kernelspec": {
      "name": "python3",
      "display_name": "Python 3"
    },
    "language_info": {
      "name": "python",
      "version": "3.10.13",
      "mimetype": "text/x-python",
      "codemirror_mode": {
        "name": "ipython",
        "version": 3
      },
      "pygments_lexer": "ipython3",
      "nbconvert_exporter": "python",
      "file_extension": ".py"
    },
    "kaggle": {
      "accelerator": "none",
      "dataSources": [
        {
          "sourceId": 8248484,
          "sourceType": "datasetVersion",
          "datasetId": 4893951
        }
      ],
      "dockerImageVersionId": 30699,
      "isInternetEnabled": true,
      "language": "python",
      "sourceType": "notebook",
      "isGpuEnabled": false
    },
    "accelerator": "GPU"
  },
  "nbformat_minor": 0,
  "nbformat": 4,
  "cells": [
    {
      "cell_type": "markdown",
      "source": [
        "## Cloning github repositry that contains Tacotron 2\n"
      ],
      "metadata": {
        "id": "gIvWSW6OeVjv"
      }
    },
    {
      "cell_type": "code",
      "source": [
        "from google.colab import drive\n",
        "drive.mount('/content/drive')"
      ],
      "metadata": {
        "colab": {
          "base_uri": "https://localhost:8080/"
        },
        "id": "SUL7Q5brTdxD",
        "outputId": "71b5ebbf-4076-42f0-8f47-693bfbd0ea31"
      },
      "execution_count": 1,
      "outputs": [
        {
          "output_type": "stream",
          "name": "stdout",
          "text": [
            "Mounted at /content/drive\n"
          ]
        }
      ]
    },
    {
      "cell_type": "code",
      "source": [
        "%load_ext autoreload"
      ],
      "metadata": {
        "id": "fBqqyVf1vvu7"
      },
      "execution_count": 2,
      "outputs": []
    },
    {
      "cell_type": "code",
      "source": [
        "!git clone https://github.com/Fadi-S/tts-arabic-pytorch"
      ],
      "metadata": {
        "id": "vzmWGyS9vw1V",
        "outputId": "5d026b2d-25e8-4242-91b2-6a4c39b5a8a2",
        "trusted": true,
        "colab": {
          "base_uri": "https://localhost:8080/"
        }
      },
      "execution_count": 5,
      "outputs": [
        {
          "output_type": "stream",
          "name": "stdout",
          "text": [
            "Cloning into 'tts-arabic-pytorch'...\n",
            "remote: Enumerating objects: 404, done.\u001b[K\n",
            "remote: Counting objects: 100% (84/84), done.\u001b[K\n",
            "remote: Compressing objects: 100% (41/41), done.\u001b[K\n",
            "remote: Total 404 (delta 56), reused 57 (delta 43), pack-reused 320\u001b[K\n",
            "Receiving objects: 100% (404/404), 5.00 MiB | 7.11 MiB/s, done.\n",
            "Resolving deltas: 100% (219/219), done.\n"
          ]
        }
      ]
    },
    {
      "cell_type": "markdown",
      "source": [
        "## 🔴 Only run after updating tts repo"
      ],
      "metadata": {
        "id": "UWx57iNZvx5K"
      }
    },
    {
      "cell_type": "code",
      "source": [
        "!git pull origin master\n",
        "%autoreload 2"
      ],
      "metadata": {
        "execution": {
          "iopub.status.busy": "2024-05-13T01:30:59.657216Z",
          "iopub.execute_input": "2024-05-13T01:30:59.657885Z",
          "iopub.status.idle": "2024-05-13T01:31:00.995519Z",
          "shell.execute_reply.started": "2024-05-13T01:30:59.657855Z",
          "shell.execute_reply": "2024-05-13T01:31:00.994588Z"
        },
        "trusted": true,
        "id": "lO-0OKAlPbtp"
      },
      "execution_count": null,
      "outputs": []
    },
    {
      "cell_type": "markdown",
      "source": [
        "## Downloading Pretrained model\n",
        "\n",
        "### 🔴 Not necessary if you wont try to run the last cell, we have our own states now..."
      ],
      "metadata": {
        "id": "dfTvQNsXfAze"
      }
    },
    {
      "cell_type": "code",
      "source": [
        "!gdown 1FD2J-xUk48JPF9TeS8ZKHzDC_ZNBfLd8"
      ],
      "metadata": {
        "colab": {
          "base_uri": "https://localhost:8080/"
        },
        "id": "izsXjgE5V2ze",
        "outputId": "2163988f-80f0-416e-fdc1-8ea040d231da"
      },
      "execution_count": null,
      "outputs": [
        {
          "output_type": "stream",
          "name": "stdout",
          "text": [
            "Downloading...\n",
            "From (original): https://drive.google.com/uc?id=1FD2J-xUk48JPF9TeS8ZKHzDC_ZNBfLd8\n",
            "From (redirected): https://drive.google.com/uc?id=1FD2J-xUk48JPF9TeS8ZKHzDC_ZNBfLd8&confirm=t&uuid=4dba95c8-a80d-4e6c-bdb7-df8dbce1c29f\n",
            "To: /content/ar-tts-models.zip\n",
            "100% 633M/633M [00:11<00:00, 55.1MB/s]\n"
          ]
        }
      ]
    },
    {
      "cell_type": "markdown",
      "source": [],
      "metadata": {
        "id": "73a5u4N8vcJs"
      }
    },
    {
      "cell_type": "code",
      "source": [
        "!unzip -o ar-tts-models.zip -d tts-arabic-pytorch/pretrained/"
      ],
      "metadata": {
        "id": "BYbN8yFRlEJg",
        "outputId": "e2be6ba0-c14f-424c-d33a-d8297666a94e",
        "trusted": true,
        "colab": {
          "base_uri": "https://localhost:8080/"
        }
      },
      "execution_count": null,
      "outputs": [
        {
          "output_type": "stream",
          "name": "stdout",
          "text": [
            "Archive:  ar-tts-models.zip\n",
            "   creating: tts-arabic-pytorch/pretrained/diacritizers/\n",
            "  inflating: tts-arabic-pytorch/pretrained/diacritizers/shakkala_second_model6.pth  \n",
            "  inflating: tts-arabic-pytorch/pretrained/diacritizers/shakkelha_rnn_3_big_20.pth  \n",
            "  inflating: tts-arabic-pytorch/pretrained/fastpitch_ar_adv.pth  \n",
            "  inflating: tts-arabic-pytorch/pretrained/fastpitch_ar_mse.pth  \n",
            "  inflating: tts-arabic-pytorch/pretrained/hifigan-asc-v1/config.json  \n",
            "  inflating: tts-arabic-pytorch/pretrained/hifigan-asc-v1/hifigan-asc.pth  \n",
            "  inflating: tts-arabic-pytorch/pretrained/tacotron2_ar_adv.pth  \n",
            "  inflating: tts-arabic-pytorch/pretrained/tacotron2_ar_mse.pth  \n"
          ]
        }
      ]
    },
    {
      "cell_type": "markdown",
      "source": [
        "## Downloading and pre-processing dataset\n"
      ],
      "metadata": {
        "id": "wd6ifvjznJPG"
      }
    },
    {
      "cell_type": "code",
      "source": [
        "!unzip -o \"/content/drive/MyDrive/Handassa/Term 8/Deep Learning/mo5ber/cut_clips9.zip\" -d /content"
      ],
      "metadata": {
        "id": "fv7XdMGnYlsO"
      },
      "execution_count": null,
      "outputs": []
    },
    {
      "cell_type": "code",
      "source": [
        "import os\n",
        "os.chdir('/content/tts-arabic-pytorch')"
      ],
      "metadata": {
        "execution": {
          "iopub.status.busy": "2024-05-13T01:31:04.694482Z",
          "iopub.execute_input": "2024-05-13T01:31:04.695242Z",
          "iopub.status.idle": "2024-05-13T01:31:04.699549Z",
          "shell.execute_reply.started": "2024-05-13T01:31:04.695205Z",
          "shell.execute_reply": "2024-05-13T01:31:04.698459Z"
        },
        "trusted": true,
        "id": "9fbC1od6Pbtq"
      },
      "execution_count": 6,
      "outputs": []
    },
    {
      "cell_type": "code",
      "source": [
        "import pandas as pd\n",
        "\n",
        "dataset_path = '/content/cut_clips9'\n",
        "\n",
        "# Load the index.csv file into a DataFrame\n",
        "data = pd.read_csv('/content/cut_clips9/segments.csv', names=['audio_file', 'text'], dtype=str)\n",
        "\n",
        "audio_files = data['audio_file']\n",
        "texts = data['text']\n",
        "\n",
        "# Display the contents of index.csv\n",
        "print(data.head())"
      ],
      "metadata": {
        "colab": {
          "base_uri": "https://localhost:8080/"
        },
        "id": "92ClFlADahQc",
        "outputId": "bc57e7dd-1bf0-42c0-f8ac-a67373971098"
      },
      "execution_count": 7,
      "outputs": [
        {
          "output_type": "stream",
          "name": "stdout",
          "text": [
            "  audio_file                                    text\n",
            "0      00001          هل التطبيق الصيني المعروف باسم\n",
            "1      00002                                  تيكتوك\n",
            "2      00003                هو أخطر تطبيق في العالم \n",
            "3      00004  السؤال دا مهم جداً ولازم كلنا نفكر فيه\n",
            "4      00005        وهو في الحقيقة شاغل بال ناس كتير\n"
          ]
        }
      ]
    },
    {
      "cell_type": "code",
      "source": [
        "from sklearn.model_selection import train_test_split\n",
        "\n",
        "\n",
        "# Split the data into training and validation sets\n",
        "train_audio_files, val_audio_files, train_texts, val_texts = train_test_split(audio_files, texts, test_size=0.2, random_state=42)\n",
        "\n",
        "train_data = pd.DataFrame({'filename': train_audio_files, 'text': train_texts})\n",
        "val_data = pd.DataFrame({'filename': val_audio_files, 'text': val_texts})"
      ],
      "metadata": {
        "id": "qlpWGD2BbU6I"
      },
      "execution_count": 8,
      "outputs": []
    },
    {
      "cell_type": "code",
      "source": [
        "train_data = pd.DataFrame(train_data, columns=['filename', 'text'])\n",
        "val_data = pd.DataFrame(val_data, columns=['filename', 'text'])\n",
        "\n",
        "# Display the data frame\n",
        "train_data.head(10)"
      ],
      "metadata": {
        "colab": {
          "base_uri": "https://localhost:8080/",
          "height": 363
        },
        "id": "bm5TBTq0bW26",
        "outputId": "e96a09a7-9473-4219-cca6-efdf485fc3d0"
      },
      "execution_count": 9,
      "outputs": [
        {
          "output_type": "execute_result",
          "data": {
            "text/plain": [
              "      filename                                      text\n",
              "601      00602   فيما يخص تشييد الأبنية المقاومة للزلازل\n",
              "9397     09398        ومستثمرين بيستثمروا في أدوات الدين\n",
              "13447    13448                     ومش عاوزين يدفعوا ليه\n",
              "25666    25667                 شيء مذهل ما بيحصلش حالياً\n",
              "27958    27959                          أو درع السيليكون\n",
              "29475    29476     شركة سيارات في العالم بعد ما مبيعاتها\n",
              "14331    14332     الأمريكيين كانوا مستعدين نفسياً لأنهم\n",
              "7582     07583   بعد ما الحرب انتهت جزء كبير من الفلاحين\n",
              "22974    22975                                     المهم\n",
              "7722     07723                                  والتعليم"
            ],
            "text/html": [
              "\n",
              "  <div id=\"df-e1840c35-c506-49b3-bcc0-5efe1898a3d1\" class=\"colab-df-container\">\n",
              "    <div>\n",
              "<style scoped>\n",
              "    .dataframe tbody tr th:only-of-type {\n",
              "        vertical-align: middle;\n",
              "    }\n",
              "\n",
              "    .dataframe tbody tr th {\n",
              "        vertical-align: top;\n",
              "    }\n",
              "\n",
              "    .dataframe thead th {\n",
              "        text-align: right;\n",
              "    }\n",
              "</style>\n",
              "<table border=\"1\" class=\"dataframe\">\n",
              "  <thead>\n",
              "    <tr style=\"text-align: right;\">\n",
              "      <th></th>\n",
              "      <th>filename</th>\n",
              "      <th>text</th>\n",
              "    </tr>\n",
              "  </thead>\n",
              "  <tbody>\n",
              "    <tr>\n",
              "      <th>601</th>\n",
              "      <td>00602</td>\n",
              "      <td>فيما يخص تشييد الأبنية المقاومة للزلازل</td>\n",
              "    </tr>\n",
              "    <tr>\n",
              "      <th>9397</th>\n",
              "      <td>09398</td>\n",
              "      <td>ومستثمرين بيستثمروا في أدوات الدين</td>\n",
              "    </tr>\n",
              "    <tr>\n",
              "      <th>13447</th>\n",
              "      <td>13448</td>\n",
              "      <td>ومش عاوزين يدفعوا ليه</td>\n",
              "    </tr>\n",
              "    <tr>\n",
              "      <th>25666</th>\n",
              "      <td>25667</td>\n",
              "      <td>شيء مذهل ما بيحصلش حالياً</td>\n",
              "    </tr>\n",
              "    <tr>\n",
              "      <th>27958</th>\n",
              "      <td>27959</td>\n",
              "      <td>أو درع السيليكون</td>\n",
              "    </tr>\n",
              "    <tr>\n",
              "      <th>29475</th>\n",
              "      <td>29476</td>\n",
              "      <td>شركة سيارات في العالم بعد ما مبيعاتها</td>\n",
              "    </tr>\n",
              "    <tr>\n",
              "      <th>14331</th>\n",
              "      <td>14332</td>\n",
              "      <td>الأمريكيين كانوا مستعدين نفسياً لأنهم</td>\n",
              "    </tr>\n",
              "    <tr>\n",
              "      <th>7582</th>\n",
              "      <td>07583</td>\n",
              "      <td>بعد ما الحرب انتهت جزء كبير من الفلاحين</td>\n",
              "    </tr>\n",
              "    <tr>\n",
              "      <th>22974</th>\n",
              "      <td>22975</td>\n",
              "      <td>المهم</td>\n",
              "    </tr>\n",
              "    <tr>\n",
              "      <th>7722</th>\n",
              "      <td>07723</td>\n",
              "      <td>والتعليم</td>\n",
              "    </tr>\n",
              "  </tbody>\n",
              "</table>\n",
              "</div>\n",
              "    <div class=\"colab-df-buttons\">\n",
              "\n",
              "  <div class=\"colab-df-container\">\n",
              "    <button class=\"colab-df-convert\" onclick=\"convertToInteractive('df-e1840c35-c506-49b3-bcc0-5efe1898a3d1')\"\n",
              "            title=\"Convert this dataframe to an interactive table.\"\n",
              "            style=\"display:none;\">\n",
              "\n",
              "  <svg xmlns=\"http://www.w3.org/2000/svg\" height=\"24px\" viewBox=\"0 -960 960 960\">\n",
              "    <path d=\"M120-120v-720h720v720H120Zm60-500h600v-160H180v160Zm220 220h160v-160H400v160Zm0 220h160v-160H400v160ZM180-400h160v-160H180v160Zm440 0h160v-160H620v160ZM180-180h160v-160H180v160Zm440 0h160v-160H620v160Z\"/>\n",
              "  </svg>\n",
              "    </button>\n",
              "\n",
              "  <style>\n",
              "    .colab-df-container {\n",
              "      display:flex;\n",
              "      gap: 12px;\n",
              "    }\n",
              "\n",
              "    .colab-df-convert {\n",
              "      background-color: #E8F0FE;\n",
              "      border: none;\n",
              "      border-radius: 50%;\n",
              "      cursor: pointer;\n",
              "      display: none;\n",
              "      fill: #1967D2;\n",
              "      height: 32px;\n",
              "      padding: 0 0 0 0;\n",
              "      width: 32px;\n",
              "    }\n",
              "\n",
              "    .colab-df-convert:hover {\n",
              "      background-color: #E2EBFA;\n",
              "      box-shadow: 0px 1px 2px rgba(60, 64, 67, 0.3), 0px 1px 3px 1px rgba(60, 64, 67, 0.15);\n",
              "      fill: #174EA6;\n",
              "    }\n",
              "\n",
              "    .colab-df-buttons div {\n",
              "      margin-bottom: 4px;\n",
              "    }\n",
              "\n",
              "    [theme=dark] .colab-df-convert {\n",
              "      background-color: #3B4455;\n",
              "      fill: #D2E3FC;\n",
              "    }\n",
              "\n",
              "    [theme=dark] .colab-df-convert:hover {\n",
              "      background-color: #434B5C;\n",
              "      box-shadow: 0px 1px 3px 1px rgba(0, 0, 0, 0.15);\n",
              "      filter: drop-shadow(0px 1px 2px rgba(0, 0, 0, 0.3));\n",
              "      fill: #FFFFFF;\n",
              "    }\n",
              "  </style>\n",
              "\n",
              "    <script>\n",
              "      const buttonEl =\n",
              "        document.querySelector('#df-e1840c35-c506-49b3-bcc0-5efe1898a3d1 button.colab-df-convert');\n",
              "      buttonEl.style.display =\n",
              "        google.colab.kernel.accessAllowed ? 'block' : 'none';\n",
              "\n",
              "      async function convertToInteractive(key) {\n",
              "        const element = document.querySelector('#df-e1840c35-c506-49b3-bcc0-5efe1898a3d1');\n",
              "        const dataTable =\n",
              "          await google.colab.kernel.invokeFunction('convertToInteractive',\n",
              "                                                    [key], {});\n",
              "        if (!dataTable) return;\n",
              "\n",
              "        const docLinkHtml = 'Like what you see? Visit the ' +\n",
              "          '<a target=\"_blank\" href=https://colab.research.google.com/notebooks/data_table.ipynb>data table notebook</a>'\n",
              "          + ' to learn more about interactive tables.';\n",
              "        element.innerHTML = '';\n",
              "        dataTable['output_type'] = 'display_data';\n",
              "        await google.colab.output.renderOutput(dataTable, element);\n",
              "        const docLink = document.createElement('div');\n",
              "        docLink.innerHTML = docLinkHtml;\n",
              "        element.appendChild(docLink);\n",
              "      }\n",
              "    </script>\n",
              "  </div>\n",
              "\n",
              "\n",
              "<div id=\"df-318f988f-95ff-4d3a-a722-e4cdaaa3b2cd\">\n",
              "  <button class=\"colab-df-quickchart\" onclick=\"quickchart('df-318f988f-95ff-4d3a-a722-e4cdaaa3b2cd')\"\n",
              "            title=\"Suggest charts\"\n",
              "            style=\"display:none;\">\n",
              "\n",
              "<svg xmlns=\"http://www.w3.org/2000/svg\" height=\"24px\"viewBox=\"0 0 24 24\"\n",
              "     width=\"24px\">\n",
              "    <g>\n",
              "        <path d=\"M19 3H5c-1.1 0-2 .9-2 2v14c0 1.1.9 2 2 2h14c1.1 0 2-.9 2-2V5c0-1.1-.9-2-2-2zM9 17H7v-7h2v7zm4 0h-2V7h2v10zm4 0h-2v-4h2v4z\"/>\n",
              "    </g>\n",
              "</svg>\n",
              "  </button>\n",
              "\n",
              "<style>\n",
              "  .colab-df-quickchart {\n",
              "      --bg-color: #E8F0FE;\n",
              "      --fill-color: #1967D2;\n",
              "      --hover-bg-color: #E2EBFA;\n",
              "      --hover-fill-color: #174EA6;\n",
              "      --disabled-fill-color: #AAA;\n",
              "      --disabled-bg-color: #DDD;\n",
              "  }\n",
              "\n",
              "  [theme=dark] .colab-df-quickchart {\n",
              "      --bg-color: #3B4455;\n",
              "      --fill-color: #D2E3FC;\n",
              "      --hover-bg-color: #434B5C;\n",
              "      --hover-fill-color: #FFFFFF;\n",
              "      --disabled-bg-color: #3B4455;\n",
              "      --disabled-fill-color: #666;\n",
              "  }\n",
              "\n",
              "  .colab-df-quickchart {\n",
              "    background-color: var(--bg-color);\n",
              "    border: none;\n",
              "    border-radius: 50%;\n",
              "    cursor: pointer;\n",
              "    display: none;\n",
              "    fill: var(--fill-color);\n",
              "    height: 32px;\n",
              "    padding: 0;\n",
              "    width: 32px;\n",
              "  }\n",
              "\n",
              "  .colab-df-quickchart:hover {\n",
              "    background-color: var(--hover-bg-color);\n",
              "    box-shadow: 0 1px 2px rgba(60, 64, 67, 0.3), 0 1px 3px 1px rgba(60, 64, 67, 0.15);\n",
              "    fill: var(--button-hover-fill-color);\n",
              "  }\n",
              "\n",
              "  .colab-df-quickchart-complete:disabled,\n",
              "  .colab-df-quickchart-complete:disabled:hover {\n",
              "    background-color: var(--disabled-bg-color);\n",
              "    fill: var(--disabled-fill-color);\n",
              "    box-shadow: none;\n",
              "  }\n",
              "\n",
              "  .colab-df-spinner {\n",
              "    border: 2px solid var(--fill-color);\n",
              "    border-color: transparent;\n",
              "    border-bottom-color: var(--fill-color);\n",
              "    animation:\n",
              "      spin 1s steps(1) infinite;\n",
              "  }\n",
              "\n",
              "  @keyframes spin {\n",
              "    0% {\n",
              "      border-color: transparent;\n",
              "      border-bottom-color: var(--fill-color);\n",
              "      border-left-color: var(--fill-color);\n",
              "    }\n",
              "    20% {\n",
              "      border-color: transparent;\n",
              "      border-left-color: var(--fill-color);\n",
              "      border-top-color: var(--fill-color);\n",
              "    }\n",
              "    30% {\n",
              "      border-color: transparent;\n",
              "      border-left-color: var(--fill-color);\n",
              "      border-top-color: var(--fill-color);\n",
              "      border-right-color: var(--fill-color);\n",
              "    }\n",
              "    40% {\n",
              "      border-color: transparent;\n",
              "      border-right-color: var(--fill-color);\n",
              "      border-top-color: var(--fill-color);\n",
              "    }\n",
              "    60% {\n",
              "      border-color: transparent;\n",
              "      border-right-color: var(--fill-color);\n",
              "    }\n",
              "    80% {\n",
              "      border-color: transparent;\n",
              "      border-right-color: var(--fill-color);\n",
              "      border-bottom-color: var(--fill-color);\n",
              "    }\n",
              "    90% {\n",
              "      border-color: transparent;\n",
              "      border-bottom-color: var(--fill-color);\n",
              "    }\n",
              "  }\n",
              "</style>\n",
              "\n",
              "  <script>\n",
              "    async function quickchart(key) {\n",
              "      const quickchartButtonEl =\n",
              "        document.querySelector('#' + key + ' button');\n",
              "      quickchartButtonEl.disabled = true;  // To prevent multiple clicks.\n",
              "      quickchartButtonEl.classList.add('colab-df-spinner');\n",
              "      try {\n",
              "        const charts = await google.colab.kernel.invokeFunction(\n",
              "            'suggestCharts', [key], {});\n",
              "      } catch (error) {\n",
              "        console.error('Error during call to suggestCharts:', error);\n",
              "      }\n",
              "      quickchartButtonEl.classList.remove('colab-df-spinner');\n",
              "      quickchartButtonEl.classList.add('colab-df-quickchart-complete');\n",
              "    }\n",
              "    (() => {\n",
              "      let quickchartButtonEl =\n",
              "        document.querySelector('#df-318f988f-95ff-4d3a-a722-e4cdaaa3b2cd button');\n",
              "      quickchartButtonEl.style.display =\n",
              "        google.colab.kernel.accessAllowed ? 'block' : 'none';\n",
              "    })();\n",
              "  </script>\n",
              "</div>\n",
              "\n",
              "    </div>\n",
              "  </div>\n"
            ],
            "application/vnd.google.colaboratory.intrinsic+json": {
              "type": "dataframe",
              "variable_name": "train_data",
              "summary": "{\n  \"name\": \"train_data\",\n  \"rows\": 26172,\n  \"fields\": [\n    {\n      \"column\": \"filename\",\n      \"properties\": {\n        \"dtype\": \"string\",\n        \"num_unique_values\": 26172,\n        \"samples\": [\n          \"26388\",\n          \"14078\",\n          \"20660\"\n        ],\n        \"semantic_type\": \"\",\n        \"description\": \"\"\n      }\n    },\n    {\n      \"column\": \"text\",\n      \"properties\": {\n        \"dtype\": \"string\",\n        \"num_unique_values\": 24805,\n        \"samples\": [\n          \"\\u0625\\u0646 \\u062f\\u064a \\u062a\\u0647\\u064a\\u0624\\u0627\\u062a\",\n          \"\\u0627\\u0644\\u062d\\u0644 \\u0628\\u0633\\u064a\\u0637 \\u062c\\u062f\\u0627\\u064b\",\n          \"\\u0627\\u0644\\u0644\\u064a \\u0628\\u064a\\u062a\\u0635\\u0646\\u0639 \\u0645\\u0646\\u0647 \\u0627\\u0644\\u0623\\u0644\\u0648\\u0645\\u0646\\u064a\\u0648\\u0645\"\n        ],\n        \"semantic_type\": \"\",\n        \"description\": \"\"\n      }\n    }\n  ]\n}"
            }
          },
          "metadata": {},
          "execution_count": 9
        }
      ]
    },
    {
      "cell_type": "code",
      "source": [
        "import text\n",
        "\n",
        "def preprocess(txt):\n",
        "    txt = txt.replace(\".\", \"\")\n",
        "    txt = txt.replace(\"!\", \"\")\n",
        "    txt = txt.replace(\",\", \"\")\n",
        "    t_phon = text.arabic_to_buckwalter(txt)\n",
        "    t_phon = text.buckwalter_to_phonemes(t_phon)\n",
        "    return t_phon"
      ],
      "metadata": {
        "id": "j4vm5WnTbYuH"
      },
      "execution_count": 10,
      "outputs": []
    },
    {
      "cell_type": "code",
      "source": [
        "train_phonemes,val_phonemes = [], []\n",
        "train_path,val_path = [], []\n",
        "\n",
        "\n",
        "for _, row in train_data.iterrows():\n",
        "    filename = \"ARA NORM \" + str(row['filename']) + '.wav'\n",
        "    train_path.append(filename)\n",
        "    train_phonemes.append(preprocess(row['text']))\n",
        "\n",
        "for _,row in val_data.iterrows():\n",
        "    row['filename'] = \"ARA NORM \" + str(row['filename']) + '.wav'\n",
        "    val_path.append(filename)\n",
        "    val_phonemes.append(preprocess(row['text']))"
      ],
      "metadata": {
        "id": "Oo7eSrNAbaVR"
      },
      "execution_count": 11,
      "outputs": []
    },
    {
      "cell_type": "code",
      "source": [
        "train_data = train_data.assign(Phonemes=train_phonemes)\n",
        "val_data = val_data.assign(Phonemes=val_phonemes)\n",
        "\n",
        "train_data = train_data.assign(filename=train_path)\n",
        "val_data = val_data.assign(filename=val_path)"
      ],
      "metadata": {
        "id": "-eeeWWfsb50l"
      },
      "execution_count": 12,
      "outputs": []
    },
    {
      "cell_type": "code",
      "source": [
        "train_data = train_data.drop('text', axis=1)\n",
        "val_data = val_data.drop('text', axis=1)"
      ],
      "metadata": {
        "id": "bZANZDRTb8Lt"
      },
      "execution_count": 13,
      "outputs": []
    },
    {
      "cell_type": "code",
      "source": [
        "train_data.head()"
      ],
      "metadata": {
        "colab": {
          "base_uri": "https://localhost:8080/",
          "height": 206
        },
        "id": "wqNzgMkFb9rh",
        "outputId": "0e3cdddd-a493-48c1-b9b8-063ebd4b7324"
      },
      "execution_count": 14,
      "outputs": [
        {
          "output_type": "execute_result",
          "data": {
            "text/plain": [
              "                 filename                                           Phonemes\n",
              "601    ARA NORM 00602.wav   + f ii0 m aa + ii0 x S + t $ y ii0 d + l < b ...\n",
              "9397   ARA NORM 09398.wav  uu0 m s t ^ m r ii0 n + b ii0 s t ^ m r w aa +...\n",
              "13447  ARA NORM 13448.wav  uu0 m $ + E aa uu0 z ii0 n + ii0 d f E w aa + ...\n",
              "25666  ARA NORM 25667.wav  $ ii0 < + m * h l + m aa + b ii0 H S l $ + H a...\n",
              "27958  ARA NORM 27959.wav              < uu0 + d r E + l s ii0 l ii0 k uu0 n"
            ],
            "text/html": [
              "\n",
              "  <div id=\"df-bed7f64a-5a26-454a-b44f-44f09c607e3e\" class=\"colab-df-container\">\n",
              "    <div>\n",
              "<style scoped>\n",
              "    .dataframe tbody tr th:only-of-type {\n",
              "        vertical-align: middle;\n",
              "    }\n",
              "\n",
              "    .dataframe tbody tr th {\n",
              "        vertical-align: top;\n",
              "    }\n",
              "\n",
              "    .dataframe thead th {\n",
              "        text-align: right;\n",
              "    }\n",
              "</style>\n",
              "<table border=\"1\" class=\"dataframe\">\n",
              "  <thead>\n",
              "    <tr style=\"text-align: right;\">\n",
              "      <th></th>\n",
              "      <th>filename</th>\n",
              "      <th>Phonemes</th>\n",
              "    </tr>\n",
              "  </thead>\n",
              "  <tbody>\n",
              "    <tr>\n",
              "      <th>601</th>\n",
              "      <td>ARA NORM 00602.wav</td>\n",
              "      <td>+ f ii0 m aa + ii0 x S + t $ y ii0 d + l &lt; b ...</td>\n",
              "    </tr>\n",
              "    <tr>\n",
              "      <th>9397</th>\n",
              "      <td>ARA NORM 09398.wav</td>\n",
              "      <td>uu0 m s t ^ m r ii0 n + b ii0 s t ^ m r w aa +...</td>\n",
              "    </tr>\n",
              "    <tr>\n",
              "      <th>13447</th>\n",
              "      <td>ARA NORM 13448.wav</td>\n",
              "      <td>uu0 m $ + E aa uu0 z ii0 n + ii0 d f E w aa + ...</td>\n",
              "    </tr>\n",
              "    <tr>\n",
              "      <th>25666</th>\n",
              "      <td>ARA NORM 25667.wav</td>\n",
              "      <td>$ ii0 &lt; + m * h l + m aa + b ii0 H S l $ + H a...</td>\n",
              "    </tr>\n",
              "    <tr>\n",
              "      <th>27958</th>\n",
              "      <td>ARA NORM 27959.wav</td>\n",
              "      <td>&lt; uu0 + d r E + l s ii0 l ii0 k uu0 n</td>\n",
              "    </tr>\n",
              "  </tbody>\n",
              "</table>\n",
              "</div>\n",
              "    <div class=\"colab-df-buttons\">\n",
              "\n",
              "  <div class=\"colab-df-container\">\n",
              "    <button class=\"colab-df-convert\" onclick=\"convertToInteractive('df-bed7f64a-5a26-454a-b44f-44f09c607e3e')\"\n",
              "            title=\"Convert this dataframe to an interactive table.\"\n",
              "            style=\"display:none;\">\n",
              "\n",
              "  <svg xmlns=\"http://www.w3.org/2000/svg\" height=\"24px\" viewBox=\"0 -960 960 960\">\n",
              "    <path d=\"M120-120v-720h720v720H120Zm60-500h600v-160H180v160Zm220 220h160v-160H400v160Zm0 220h160v-160H400v160ZM180-400h160v-160H180v160Zm440 0h160v-160H620v160ZM180-180h160v-160H180v160Zm440 0h160v-160H620v160Z\"/>\n",
              "  </svg>\n",
              "    </button>\n",
              "\n",
              "  <style>\n",
              "    .colab-df-container {\n",
              "      display:flex;\n",
              "      gap: 12px;\n",
              "    }\n",
              "\n",
              "    .colab-df-convert {\n",
              "      background-color: #E8F0FE;\n",
              "      border: none;\n",
              "      border-radius: 50%;\n",
              "      cursor: pointer;\n",
              "      display: none;\n",
              "      fill: #1967D2;\n",
              "      height: 32px;\n",
              "      padding: 0 0 0 0;\n",
              "      width: 32px;\n",
              "    }\n",
              "\n",
              "    .colab-df-convert:hover {\n",
              "      background-color: #E2EBFA;\n",
              "      box-shadow: 0px 1px 2px rgba(60, 64, 67, 0.3), 0px 1px 3px 1px rgba(60, 64, 67, 0.15);\n",
              "      fill: #174EA6;\n",
              "    }\n",
              "\n",
              "    .colab-df-buttons div {\n",
              "      margin-bottom: 4px;\n",
              "    }\n",
              "\n",
              "    [theme=dark] .colab-df-convert {\n",
              "      background-color: #3B4455;\n",
              "      fill: #D2E3FC;\n",
              "    }\n",
              "\n",
              "    [theme=dark] .colab-df-convert:hover {\n",
              "      background-color: #434B5C;\n",
              "      box-shadow: 0px 1px 3px 1px rgba(0, 0, 0, 0.15);\n",
              "      filter: drop-shadow(0px 1px 2px rgba(0, 0, 0, 0.3));\n",
              "      fill: #FFFFFF;\n",
              "    }\n",
              "  </style>\n",
              "\n",
              "    <script>\n",
              "      const buttonEl =\n",
              "        document.querySelector('#df-bed7f64a-5a26-454a-b44f-44f09c607e3e button.colab-df-convert');\n",
              "      buttonEl.style.display =\n",
              "        google.colab.kernel.accessAllowed ? 'block' : 'none';\n",
              "\n",
              "      async function convertToInteractive(key) {\n",
              "        const element = document.querySelector('#df-bed7f64a-5a26-454a-b44f-44f09c607e3e');\n",
              "        const dataTable =\n",
              "          await google.colab.kernel.invokeFunction('convertToInteractive',\n",
              "                                                    [key], {});\n",
              "        if (!dataTable) return;\n",
              "\n",
              "        const docLinkHtml = 'Like what you see? Visit the ' +\n",
              "          '<a target=\"_blank\" href=https://colab.research.google.com/notebooks/data_table.ipynb>data table notebook</a>'\n",
              "          + ' to learn more about interactive tables.';\n",
              "        element.innerHTML = '';\n",
              "        dataTable['output_type'] = 'display_data';\n",
              "        await google.colab.output.renderOutput(dataTable, element);\n",
              "        const docLink = document.createElement('div');\n",
              "        docLink.innerHTML = docLinkHtml;\n",
              "        element.appendChild(docLink);\n",
              "      }\n",
              "    </script>\n",
              "  </div>\n",
              "\n",
              "\n",
              "<div id=\"df-2af407e2-e122-4791-a29a-7d32525c83f8\">\n",
              "  <button class=\"colab-df-quickchart\" onclick=\"quickchart('df-2af407e2-e122-4791-a29a-7d32525c83f8')\"\n",
              "            title=\"Suggest charts\"\n",
              "            style=\"display:none;\">\n",
              "\n",
              "<svg xmlns=\"http://www.w3.org/2000/svg\" height=\"24px\"viewBox=\"0 0 24 24\"\n",
              "     width=\"24px\">\n",
              "    <g>\n",
              "        <path d=\"M19 3H5c-1.1 0-2 .9-2 2v14c0 1.1.9 2 2 2h14c1.1 0 2-.9 2-2V5c0-1.1-.9-2-2-2zM9 17H7v-7h2v7zm4 0h-2V7h2v10zm4 0h-2v-4h2v4z\"/>\n",
              "    </g>\n",
              "</svg>\n",
              "  </button>\n",
              "\n",
              "<style>\n",
              "  .colab-df-quickchart {\n",
              "      --bg-color: #E8F0FE;\n",
              "      --fill-color: #1967D2;\n",
              "      --hover-bg-color: #E2EBFA;\n",
              "      --hover-fill-color: #174EA6;\n",
              "      --disabled-fill-color: #AAA;\n",
              "      --disabled-bg-color: #DDD;\n",
              "  }\n",
              "\n",
              "  [theme=dark] .colab-df-quickchart {\n",
              "      --bg-color: #3B4455;\n",
              "      --fill-color: #D2E3FC;\n",
              "      --hover-bg-color: #434B5C;\n",
              "      --hover-fill-color: #FFFFFF;\n",
              "      --disabled-bg-color: #3B4455;\n",
              "      --disabled-fill-color: #666;\n",
              "  }\n",
              "\n",
              "  .colab-df-quickchart {\n",
              "    background-color: var(--bg-color);\n",
              "    border: none;\n",
              "    border-radius: 50%;\n",
              "    cursor: pointer;\n",
              "    display: none;\n",
              "    fill: var(--fill-color);\n",
              "    height: 32px;\n",
              "    padding: 0;\n",
              "    width: 32px;\n",
              "  }\n",
              "\n",
              "  .colab-df-quickchart:hover {\n",
              "    background-color: var(--hover-bg-color);\n",
              "    box-shadow: 0 1px 2px rgba(60, 64, 67, 0.3), 0 1px 3px 1px rgba(60, 64, 67, 0.15);\n",
              "    fill: var(--button-hover-fill-color);\n",
              "  }\n",
              "\n",
              "  .colab-df-quickchart-complete:disabled,\n",
              "  .colab-df-quickchart-complete:disabled:hover {\n",
              "    background-color: var(--disabled-bg-color);\n",
              "    fill: var(--disabled-fill-color);\n",
              "    box-shadow: none;\n",
              "  }\n",
              "\n",
              "  .colab-df-spinner {\n",
              "    border: 2px solid var(--fill-color);\n",
              "    border-color: transparent;\n",
              "    border-bottom-color: var(--fill-color);\n",
              "    animation:\n",
              "      spin 1s steps(1) infinite;\n",
              "  }\n",
              "\n",
              "  @keyframes spin {\n",
              "    0% {\n",
              "      border-color: transparent;\n",
              "      border-bottom-color: var(--fill-color);\n",
              "      border-left-color: var(--fill-color);\n",
              "    }\n",
              "    20% {\n",
              "      border-color: transparent;\n",
              "      border-left-color: var(--fill-color);\n",
              "      border-top-color: var(--fill-color);\n",
              "    }\n",
              "    30% {\n",
              "      border-color: transparent;\n",
              "      border-left-color: var(--fill-color);\n",
              "      border-top-color: var(--fill-color);\n",
              "      border-right-color: var(--fill-color);\n",
              "    }\n",
              "    40% {\n",
              "      border-color: transparent;\n",
              "      border-right-color: var(--fill-color);\n",
              "      border-top-color: var(--fill-color);\n",
              "    }\n",
              "    60% {\n",
              "      border-color: transparent;\n",
              "      border-right-color: var(--fill-color);\n",
              "    }\n",
              "    80% {\n",
              "      border-color: transparent;\n",
              "      border-right-color: var(--fill-color);\n",
              "      border-bottom-color: var(--fill-color);\n",
              "    }\n",
              "    90% {\n",
              "      border-color: transparent;\n",
              "      border-bottom-color: var(--fill-color);\n",
              "    }\n",
              "  }\n",
              "</style>\n",
              "\n",
              "  <script>\n",
              "    async function quickchart(key) {\n",
              "      const quickchartButtonEl =\n",
              "        document.querySelector('#' + key + ' button');\n",
              "      quickchartButtonEl.disabled = true;  // To prevent multiple clicks.\n",
              "      quickchartButtonEl.classList.add('colab-df-spinner');\n",
              "      try {\n",
              "        const charts = await google.colab.kernel.invokeFunction(\n",
              "            'suggestCharts', [key], {});\n",
              "      } catch (error) {\n",
              "        console.error('Error during call to suggestCharts:', error);\n",
              "      }\n",
              "      quickchartButtonEl.classList.remove('colab-df-spinner');\n",
              "      quickchartButtonEl.classList.add('colab-df-quickchart-complete');\n",
              "    }\n",
              "    (() => {\n",
              "      let quickchartButtonEl =\n",
              "        document.querySelector('#df-2af407e2-e122-4791-a29a-7d32525c83f8 button');\n",
              "      quickchartButtonEl.style.display =\n",
              "        google.colab.kernel.accessAllowed ? 'block' : 'none';\n",
              "    })();\n",
              "  </script>\n",
              "</div>\n",
              "\n",
              "    </div>\n",
              "  </div>\n"
            ],
            "application/vnd.google.colaboratory.intrinsic+json": {
              "type": "dataframe",
              "variable_name": "train_data",
              "summary": "{\n  \"name\": \"train_data\",\n  \"rows\": 26172,\n  \"fields\": [\n    {\n      \"column\": \"filename\",\n      \"properties\": {\n        \"dtype\": \"string\",\n        \"num_unique_values\": 26172,\n        \"samples\": [\n          \"ARA NORM 26388.wav\",\n          \"ARA NORM 14078.wav\",\n          \"ARA NORM 20660.wav\"\n        ],\n        \"semantic_type\": \"\",\n        \"description\": \"\"\n      }\n    },\n    {\n      \"column\": \"Phonemes\",\n      \"properties\": {\n        \"dtype\": \"string\",\n        \"num_unique_values\": 24789,\n        \"samples\": [\n          \"t E aa l w aa + b q AA + m E + b E D + n f n T h + E l aa + l t r aa b ii0 z\",\n          \"b E d + m aa + x l S + S y aa n\",\n          \"l k l + l E m aa l + b m aa + f ii0 + * aa l i0 k + < A S H aa b + l b l d + b t q l\"\n        ],\n        \"semantic_type\": \"\",\n        \"description\": \"\"\n      }\n    }\n  ]\n}"
            }
          },
          "metadata": {},
          "execution_count": 14
        }
      ]
    },
    {
      "cell_type": "code",
      "source": [
        "import csv\n",
        "\n",
        "train_data.to_csv('/content/ready_train.txt', sep=' ', header=None, index=None, quoting=csv.QUOTE_NONNUMERIC)\n",
        "val_data.to_csv('/content/ready_val.txt', sep=' ', header=None, index=None, quoting=csv.QUOTE_NONNUMERIC)"
      ],
      "metadata": {
        "id": "c2V-4_7Mb_Hp"
      },
      "execution_count": 15,
      "outputs": []
    },
    {
      "cell_type": "code",
      "source": [
        "#reading path for wav dataset\n",
        "train_path = \"/content/cut_clips9\"\n",
        "val_path = \"/content/cut_clips9\""
      ],
      "metadata": {
        "id": "aLPiiLLqc7M5"
      },
      "execution_count": 16,
      "outputs": []
    },
    {
      "cell_type": "code",
      "source": [
        "from utils.data import ArabDataset\n",
        "\n",
        "\n",
        "train_dataset = ArabDataset('/content/ready_train.txt', train_path)\n",
        "test_dataset = ArabDataset('/content/ready_val.txt', val_path)"
      ],
      "metadata": {
        "colab": {
          "base_uri": "https://localhost:8080/"
        },
        "id": "LXZg7_cRdA5M",
        "outputId": "75f288e9-bf63-4691-95e0-799a6d3a8d42"
      },
      "execution_count": 17,
      "outputs": [
        {
          "output_type": "stream",
          "name": "stdout",
          "text": [
            "Number of lines: 26172\n"
          ]
        },
        {
          "output_type": "stream",
          "name": "stderr",
          "text": [
            "100%|██████████| 26172/26172 [00:00<00:00, 28625.71it/s]\n"
          ]
        },
        {
          "output_type": "stream",
          "name": "stdout",
          "text": [
            "Number of mel phonemes: 26172\n",
            "Number of lines: 6544\n"
          ]
        },
        {
          "output_type": "stream",
          "name": "stderr",
          "text": [
            "100%|██████████| 6544/6544 [00:00<00:00, 34863.03it/s]\n"
          ]
        },
        {
          "output_type": "stream",
          "name": "stdout",
          "text": [
            "Number of mel phonemes: 6544\n"
          ]
        }
      ]
    },
    {
      "cell_type": "code",
      "source": [
        "def compute_accuracy(gate_out, gate_padded):\n",
        "    # Apply sigmoid function to gate_out to get probabilities\n",
        "    gate_prob = torch.sigmoid(gate_out)\n",
        "    # Round the probabilities to get binary predictions (0 or 1)\n",
        "    gate_pred = torch.round(gate_prob)\n",
        "    # Compute accuracy by comparing predictions with targets\n",
        "    correct = (gate_pred == gate_padded).sum().item()\n",
        "    total = gate_padded.numel()\n",
        "    accuracy = correct / total\n",
        "    return accuracy"
      ],
      "metadata": {
        "id": "B63ouBT0eceD"
      },
      "execution_count": 27,
      "outputs": []
    },
    {
      "cell_type": "markdown",
      "source": [
        "# FineTuning model\n",
        "\n",
        "## Training and Validation loop"
      ],
      "metadata": {
        "id": "CFtmAG9zsYg7"
      }
    },
    {
      "cell_type": "code",
      "source": [
        "import torch\n",
        "import torch.nn.functional as F\n",
        "import random\n",
        "from utils.training import batch_to_device, save_states\n",
        "from tqdm import tqdm\n",
        "\n",
        "@torch.inference_mode()\n",
        "def validate(model, test_loader, device, n_iter):\n",
        "    loss_sum = 0\n",
        "    n_test_sum = 0\n",
        "\n",
        "    model.eval()\n",
        "\n",
        "    for batch in test_loader:\n",
        "        text_padded, input_lengths, mel_padded, gate_padded, output_lengths = batch_to_device(batch, device)\n",
        "\n",
        "        y_pred = model(text_padded, input_lengths, mel_padded, output_lengths, torch.zeros_like(output_lengths))\n",
        "\n",
        "        mel_out, mel_out_postnet, gate_pred, alignments = y_pred\n",
        "\n",
        "        mel_loss = F.mse_loss(mel_out, mel_padded) + F.mse_loss(mel_out_postnet, mel_padded)\n",
        "        gate_loss = F.binary_cross_entropy_with_logits(gate_pred, gate_padded)\n",
        "        loss = mel_loss + gate_loss\n",
        "\n",
        "        loss_sum += mel_padded.size(0) * loss.item()\n",
        "        n_test_sum += mel_padded.size(0)\n",
        "\n",
        "    val_loss = loss_sum / n_test_sum\n",
        "\n",
        "    idx = random.randint(0, mel_padded.size(0) - 1)\n",
        "    mel_infer, *_ = model.infer(text_padded[idx:idx+1], input_lengths[idx:idx+1]*0, input_lengths[idx:idx+1])\n",
        "\n",
        "    model.train()\n",
        "\n",
        "    return val_loss\n",
        "\n",
        "def training_loop(model,\n",
        "                  optimizer,\n",
        "                  train_loader,\n",
        "                  test_loader,\n",
        "                  device,\n",
        "                  config,\n",
        "                  n_epoch,\n",
        "                  n_iter):\n",
        "\n",
        "    model.train()\n",
        "    net_config = {}\n",
        "    for epoch in range(n_epoch, config.epochs):\n",
        "\n",
        "        with tqdm(train_loader, desc=f\"Epoch {epoch+1}/{config.epochs}\", unit=\"batch\") as t:\n",
        "            for batch in t:\n",
        "\n",
        "                text_padded, input_lengths, mel_padded, gate_padded, output_lengths = batch_to_device(batch, device)\n",
        "\n",
        "                y_pred = model(text_padded, input_lengths, mel_padded, output_lengths, torch.zeros_like(output_lengths))\n",
        "                mel_out, mel_out_postnet, gate_out, _ = y_pred\n",
        "\n",
        "                optimizer.zero_grad()\n",
        "\n",
        "                # LOSS\n",
        "                mel_loss = F.mse_loss(mel_out, mel_padded) + F.mse_loss(mel_out_postnet, mel_padded)\n",
        "                gate_loss = F.binary_cross_entropy_with_logits(gate_out, gate_padded)\n",
        "                loss = mel_loss + gate_loss\n",
        "\n",
        "                loss.backward()\n",
        "\n",
        "                grad_norm = torch.nn.utils.clip_grad_norm_(model.parameters(), config.grad_clip_thresh)\n",
        "                optimizer.step()\n",
        "\n",
        "                accuracy = compute_accuracy(gate_out, gate_padded)\n",
        "                t.set_postfix(loss=loss.item(), grad_norm=grad_norm.item(), accuracy=accuracy)\n",
        "\n",
        "                # LOGGING and saving weights\n",
        "                if n_iter % config.n_save_states_iter == 0:\n",
        "                    save_states(f'states.pth', model, optimizer, n_iter, epoch, net_config, config)\n",
        "\n",
        "                if n_iter % config.n_save_backup_iter == 0 and n_iter > 0:\n",
        "                    save_states(f'states_{n_iter}.pth', model, optimizer, n_iter, epoch, net_config, config)\n",
        "\n",
        "                n_iter += 1\n",
        "\n",
        "        # VALIDATE\n",
        "        val_loss = validate(model, test_loader, device, n_iter)\n",
        "        print(f\"Validation loss: {val_loss}\")"
      ],
      "metadata": {
        "id": "6ZCm4Bz_77eV",
        "trusted": true
      },
      "execution_count": 35,
      "outputs": []
    },
    {
      "cell_type": "code",
      "source": [
        "class config(object):\n",
        "\n",
        "    def __init__ (self, batch=8, epochs = 500, grad_clip_thresh = 1.0, learning_rate = 1.0e-5, weight_decay = 1.0e-8, max_step = 3000):\n",
        "        self.epochs = epochs\n",
        "        self.grad_clip_thresh = grad_clip_thresh\n",
        "        self.learning_rate = learning_rate\n",
        "        self.weight_decay = weight_decay\n",
        "        self.max_step = max_step\n",
        "        self.batch = batch\n",
        "        self.n_save_states_iter = 100\n",
        "        self.n_save_backup_iter = 1000\n",
        "        self.checkpoint_dir = \"/content/drive/MyDrive/Handassa/Term 8/Deep Learning/Checkpoint\"\n",
        "        self.pretrained_dir = \"/content/drive/MyDrive/Handassa/Term 8/Deep Learning/Checkpoint/states.pth\"\n"
      ],
      "metadata": {
        "id": "Rtyw3RkzSCkZ",
        "trusted": true
      },
      "execution_count": 36,
      "outputs": []
    },
    {
      "cell_type": "code",
      "source": [
        "config = config(batch=64, learning_rate=1.0e-3)"
      ],
      "metadata": {
        "id": "7_mwX0bIZbgj",
        "trusted": true
      },
      "execution_count": 37,
      "outputs": []
    },
    {
      "cell_type": "code",
      "source": [
        "from torch.utils.data import DataLoader\n",
        "from utils.data import text_mel_collate_fn\n",
        "\n",
        "# dataloaders\n",
        "train_loader = DataLoader(train_dataset,\n",
        "                              batch_size=config.batch,\n",
        "                              collate_fn=text_mel_collate_fn,\n",
        "                              shuffle=True, drop_last=True,\n",
        "                              sampler=None)\n",
        "\n",
        "test_loader = DataLoader(test_dataset,\n",
        "                             batch_size=config.batch, drop_last=False,\n",
        "                             shuffle=False, collate_fn=text_mel_collate_fn)"
      ],
      "metadata": {
        "id": "u6MIKXHDvw7E",
        "trusted": true
      },
      "execution_count": 45,
      "outputs": []
    },
    {
      "cell_type": "markdown",
      "source": [
        "## Model architecture, we used Tacotron2 as our base model"
      ],
      "metadata": {
        "id": "jBljVhoTxH-X"
      }
    },
    {
      "cell_type": "code",
      "source": [
        "from models.tacotron2.tacotron2_ms import Tacotron2MS\n",
        "\n",
        "device = torch.device('cuda' if torch.cuda.is_available() else 'cpu')\n",
        "\n",
        "# construct model\n",
        "model = Tacotron2MS(n_symbol=40)\n",
        "model = model.to(device)\n",
        "model.decoder.decoder_max_step = config.max_step\n",
        "\n",
        "# optimizer\n",
        "optimizer = torch.optim.AdamW(model.parameters(), lr=config.learning_rate, weight_decay=config.weight_decay)\n",
        "\n",
        "# resume from existing checkpoint\n",
        "n_epoch, n_iter = 0, 0\n",
        "\n",
        "\n",
        "state_dicts = torch.load(config.pretrained_dir, map_location=device)\n",
        "model.load_state_dict(state_dicts['model'])\n",
        "if 'optim' in state_dicts:\n",
        "      optimizer.load_state_dict(state_dicts['optim'])\n",
        "if 'epoch' in state_dicts:\n",
        "      n_epoch = state_dicts['epoch']\n",
        "if 'iter' in state_dicts:\n",
        "      n_iter = state_dicts['iter']\n",
        "\n",
        "\n",
        "# start training\n",
        "training_loop(model, optimizer, train_loader, test_loader, device, config, n_epoch, n_iter)"
      ],
      "metadata": {
        "id": "CbRGkZmP4GWX",
        "outputId": "ee5dfca6-6207-4413-c735-399203435a62",
        "trusted": true,
        "colab": {
          "base_uri": "https://localhost:8080/"
        }
      },
      "execution_count": null,
      "outputs": [
        {
          "output_type": "stream",
          "name": "stderr",
          "text": [
            "Epoch 11/500:  77%|███████▋  | 316/408 [15:05<03:55,  2.56s/batch, accuracy=0.995, grad_norm=0.879, loss=0.665]"
          ]
        }
      ]
    },
    {
      "cell_type": "code",
      "source": [
        "import matplotlib.pyplot as plt\n",
        "import IPython\n",
        "from models.tacotron2 import Tacotron2Wave\n",
        "\n",
        "model = Tacotron2Wave(\"/content/drive/MyDrive/Handassa/Term 8/Deep Learning/Checkpoint/states.pth\")\n",
        "model = model.cuda()\n",
        "\n",
        "wave, mel_spec = model.tts(\"ازيك عامل ايه يا باشا\" ,return_mel=True, denoise=0.005)\n",
        "\n",
        "print(\"Audio output (Tacotron2)\")\n",
        "IPython.display.Audio(data=0.5*wave, rate=44100, normalize=False)"
      ],
      "metadata": {
        "id": "VAgQS30Q7QY8",
        "trusted": true
      },
      "execution_count": null,
      "outputs": []
    },
    {
      "cell_type": "code",
      "source": [],
      "metadata": {
        "id": "NfxkjSzyPbtv"
      },
      "execution_count": null,
      "outputs": []
    }
  ]
}